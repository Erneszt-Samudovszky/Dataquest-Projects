{
 "cells": [
  {
   "cell_type": "markdown",
   "metadata": {
    "collapsed": true
   },
   "source": [
    "# Project: Clean and Analyze Employee Exit Surveys \n",
    "    "
   ]
  },
  {
   "cell_type": "markdown",
   "metadata": {},
   "source": [
    "In this project, we'll clean and analyze exit surveys from employees of the Department of Education, Training and Employment (DETE)}) and the Technical and Further Education (TAFE) body of the Queensland government in Australia.\n",
    "\n",
    "We'll play the role of data analyst and pretend our stakeholders want to know the following:\n",
    "\n",
    "  *  Are employees who only worked for the institutes for a short period of time resigning due to some kind of dissatisfaction? What about employees who have been there longer?\n",
    "  *  Are younger employees resigning due to some kind of dissatisfaction? What about older employees?"
   ]
  },
  {
   "cell_type": "markdown",
   "metadata": {},
   "source": [
    "## Introduction"
   ]
  },
  {
   "cell_type": "markdown",
   "metadata": {},
   "source": [
    "Let's start by opening and exploring the datasets."
   ]
  },
  {
   "cell_type": "code",
   "execution_count": 40,
   "metadata": {
    "collapsed": true
   },
   "outputs": [],
   "source": [
    "import numpy as np\n",
    "import pandas as pd\n",
    "import matplotlib.pyplot as plt\n",
    "%matplotlib inline"
   ]
  },
  {
   "cell_type": "code",
   "execution_count": 41,
   "metadata": {
    "collapsed": true
   },
   "outputs": [],
   "source": [
    "dete_survey = pd.read_csv(\"dete_survey.csv\")\n",
    "tafe_survey = pd.read_csv(\"tafe_survey.csv\")"
   ]
  },
  {
   "cell_type": "code",
   "execution_count": 42,
   "metadata": {
    "collapsed": false
   },
   "outputs": [
    {
     "name": "stdout",
     "output_type": "stream",
     "text": [
      "(822, 56)\n"
     ]
    },
    {
     "data": {
      "text/plain": [
       "(702, 72)"
      ]
     },
     "execution_count": 42,
     "metadata": {},
     "output_type": "execute_result"
    }
   ],
   "source": [
    "print(dete_survey.shape)\n",
    "tafe_survey.shape"
   ]
  },
  {
   "cell_type": "code",
   "execution_count": 43,
   "metadata": {
    "collapsed": false
   },
   "outputs": [
    {
     "name": "stdout",
     "output_type": "stream",
     "text": [
      "<class 'pandas.core.frame.DataFrame'>\n",
      "RangeIndex: 822 entries, 0 to 821\n",
      "Data columns (total 56 columns):\n",
      "ID                                     822 non-null int64\n",
      "SeparationType                         822 non-null object\n",
      "Cease Date                             822 non-null object\n",
      "DETE Start Date                        822 non-null object\n",
      "Role Start Date                        822 non-null object\n",
      "Position                               817 non-null object\n",
      "Classification                         455 non-null object\n",
      "Region                                 822 non-null object\n",
      "Business Unit                          126 non-null object\n",
      "Employment Status                      817 non-null object\n",
      "Career move to public sector           822 non-null bool\n",
      "Career move to private sector          822 non-null bool\n",
      "Interpersonal conflicts                822 non-null bool\n",
      "Job dissatisfaction                    822 non-null bool\n",
      "Dissatisfaction with the department    822 non-null bool\n",
      "Physical work environment              822 non-null bool\n",
      "Lack of recognition                    822 non-null bool\n",
      "Lack of job security                   822 non-null bool\n",
      "Work location                          822 non-null bool\n",
      "Employment conditions                  822 non-null bool\n",
      "Maternity/family                       822 non-null bool\n",
      "Relocation                             822 non-null bool\n",
      "Study/Travel                           822 non-null bool\n",
      "Ill Health                             822 non-null bool\n",
      "Traumatic incident                     822 non-null bool\n",
      "Work life balance                      822 non-null bool\n",
      "Workload                               822 non-null bool\n",
      "None of the above                      822 non-null bool\n",
      "Professional Development               808 non-null object\n",
      "Opportunities for promotion            735 non-null object\n",
      "Staff morale                           816 non-null object\n",
      "Workplace issue                        788 non-null object\n",
      "Physical environment                   817 non-null object\n",
      "Worklife balance                       815 non-null object\n",
      "Stress and pressure support            810 non-null object\n",
      "Performance of supervisor              813 non-null object\n",
      "Peer support                           812 non-null object\n",
      "Initiative                             813 non-null object\n",
      "Skills                                 811 non-null object\n",
      "Coach                                  767 non-null object\n",
      "Career Aspirations                     746 non-null object\n",
      "Feedback                               792 non-null object\n",
      "Further PD                             768 non-null object\n",
      "Communication                          814 non-null object\n",
      "My say                                 812 non-null object\n",
      "Information                            816 non-null object\n",
      "Kept informed                          813 non-null object\n",
      "Wellness programs                      766 non-null object\n",
      "Health & Safety                        793 non-null object\n",
      "Gender                                 798 non-null object\n",
      "Age                                    811 non-null object\n",
      "Aboriginal                             16 non-null object\n",
      "Torres Strait                          3 non-null object\n",
      "South Sea                              7 non-null object\n",
      "Disability                             23 non-null object\n",
      "NESB                                   32 non-null object\n",
      "dtypes: bool(18), int64(1), object(37)\n",
      "memory usage: 258.6+ KB\n"
     ]
    }
   ],
   "source": [
    "dete_survey.info()"
   ]
  },
  {
   "cell_type": "code",
   "execution_count": 44,
   "metadata": {
    "collapsed": false
   },
   "outputs": [
    {
     "name": "stdout",
     "output_type": "stream",
     "text": [
      "<class 'pandas.core.frame.DataFrame'>\n",
      "RangeIndex: 702 entries, 0 to 701\n",
      "Data columns (total 72 columns):\n",
      "Record ID                                                                                                                                                        702 non-null float64\n",
      "Institute                                                                                                                                                        702 non-null object\n",
      "WorkArea                                                                                                                                                         702 non-null object\n",
      "CESSATION YEAR                                                                                                                                                   695 non-null float64\n",
      "Reason for ceasing employment                                                                                                                                    701 non-null object\n",
      "Contributing Factors. Career Move - Public Sector                                                                                                                437 non-null object\n",
      "Contributing Factors. Career Move - Private Sector                                                                                                               437 non-null object\n",
      "Contributing Factors. Career Move - Self-employment                                                                                                              437 non-null object\n",
      "Contributing Factors. Ill Health                                                                                                                                 437 non-null object\n",
      "Contributing Factors. Maternity/Family                                                                                                                           437 non-null object\n",
      "Contributing Factors. Dissatisfaction                                                                                                                            437 non-null object\n",
      "Contributing Factors. Job Dissatisfaction                                                                                                                        437 non-null object\n",
      "Contributing Factors. Interpersonal Conflict                                                                                                                     437 non-null object\n",
      "Contributing Factors. Study                                                                                                                                      437 non-null object\n",
      "Contributing Factors. Travel                                                                                                                                     437 non-null object\n",
      "Contributing Factors. Other                                                                                                                                      437 non-null object\n",
      "Contributing Factors. NONE                                                                                                                                       437 non-null object\n",
      "Main Factor. Which of these was the main factor for leaving?                                                                                                     113 non-null object\n",
      "InstituteViews. Topic:1. I feel the senior leadership had a clear vision and direction                                                                           608 non-null object\n",
      "InstituteViews. Topic:2. I was given access to skills training to help me do my job better                                                                       613 non-null object\n",
      "InstituteViews. Topic:3. I was given adequate opportunities for personal development                                                                             610 non-null object\n",
      "InstituteViews. Topic:4. I was given adequate opportunities for promotion within %Institute]Q25LBL%                                                              608 non-null object\n",
      "InstituteViews. Topic:5. I felt the salary for the job was right for the responsibilities I had                                                                  615 non-null object\n",
      "InstituteViews. Topic:6. The organisation recognised when staff did good work                                                                                    607 non-null object\n",
      "InstituteViews. Topic:7. Management was generally supportive of me                                                                                               614 non-null object\n",
      "InstituteViews. Topic:8. Management was generally supportive of my team                                                                                          608 non-null object\n",
      "InstituteViews. Topic:9. I was kept informed of the changes in the organisation which would affect me                                                            610 non-null object\n",
      "InstituteViews. Topic:10. Staff morale was positive within the Institute                                                                                         602 non-null object\n",
      "InstituteViews. Topic:11. If I had a workplace issue it was dealt with quickly                                                                                   601 non-null object\n",
      "InstituteViews. Topic:12. If I had a workplace issue it was dealt with efficiently                                                                               597 non-null object\n",
      "InstituteViews. Topic:13. If I had a workplace issue it was dealt with discreetly                                                                                601 non-null object\n",
      "WorkUnitViews. Topic:14. I was satisfied with the quality of the management and supervision within my work unit                                                  609 non-null object\n",
      "WorkUnitViews. Topic:15. I worked well with my colleagues                                                                                                        605 non-null object\n",
      "WorkUnitViews. Topic:16. My job was challenging and interesting                                                                                                  607 non-null object\n",
      "WorkUnitViews. Topic:17. I was encouraged to use my initiative in the course of my work                                                                          610 non-null object\n",
      "WorkUnitViews. Topic:18. I had sufficient contact with other people in my job                                                                                    613 non-null object\n",
      "WorkUnitViews. Topic:19. I was given adequate support and co-operation by my peers to enable me to do my job                                                     609 non-null object\n",
      "WorkUnitViews. Topic:20. I was able to use the full range of my skills in my job                                                                                 609 non-null object\n",
      "WorkUnitViews. Topic:21. I was able to use the full range of my abilities in my job. ; Category:Level of Agreement; Question:YOUR VIEWS ABOUT YOUR WORK UNIT]    608 non-null object\n",
      "WorkUnitViews. Topic:22. I was able to use the full range of my knowledge in my job                                                                              608 non-null object\n",
      "WorkUnitViews. Topic:23. My job provided sufficient variety                                                                                                      611 non-null object\n",
      "WorkUnitViews. Topic:24. I was able to cope with the level of stress and pressure in my job                                                                      610 non-null object\n",
      "WorkUnitViews. Topic:25. My job allowed me to balance the demands of work and family to my satisfaction                                                          611 non-null object\n",
      "WorkUnitViews. Topic:26. My supervisor gave me adequate personal recognition and feedback on my performance                                                      606 non-null object\n",
      "WorkUnitViews. Topic:27. My working environment was satisfactory e.g. sufficient space, good lighting, suitable seating and working area                         610 non-null object\n",
      "WorkUnitViews. Topic:28. I was given the opportunity to mentor and coach others in order for me to pass on my skills and knowledge prior to my cessation date    609 non-null object\n",
      "WorkUnitViews. Topic:29. There was adequate communication between staff in my unit                                                                               603 non-null object\n",
      "WorkUnitViews. Topic:30. Staff morale was positive within my work unit                                                                                           606 non-null object\n",
      "Induction. Did you undertake Workplace Induction?                                                                                                                619 non-null object\n",
      "InductionInfo. Topic:Did you undertake a Corporate Induction?                                                                                                    432 non-null object\n",
      "InductionInfo. Topic:Did you undertake a Institute Induction?                                                                                                    483 non-null object\n",
      "InductionInfo. Topic: Did you undertake Team Induction?                                                                                                          440 non-null object\n",
      "InductionInfo. Face to Face Topic:Did you undertake a Corporate Induction; Category:How it was conducted?                                                        555 non-null object\n",
      "InductionInfo. On-line Topic:Did you undertake a Corporate Induction; Category:How it was conducted?                                                             555 non-null object\n",
      "InductionInfo. Induction Manual Topic:Did you undertake a Corporate Induction?                                                                                   555 non-null object\n",
      "InductionInfo. Face to Face Topic:Did you undertake a Institute Induction?                                                                                       530 non-null object\n",
      "InductionInfo. On-line Topic:Did you undertake a Institute Induction?                                                                                            555 non-null object\n",
      "InductionInfo. Induction Manual Topic:Did you undertake a Institute Induction?                                                                                   553 non-null object\n",
      "InductionInfo. Face to Face Topic: Did you undertake Team Induction; Category?                                                                                   555 non-null object\n",
      "InductionInfo. On-line Topic: Did you undertake Team Induction?process you undertook and how it was conducted.]                                                  555 non-null object\n",
      "InductionInfo. Induction Manual Topic: Did you undertake Team Induction?                                                                                         555 non-null object\n",
      "Workplace. Topic:Did you and your Manager develop a Performance and Professional Development Plan (PPDP)?                                                        608 non-null object\n",
      "Workplace. Topic:Does your workplace promote a work culture free from all forms of unlawful discrimination?                                                      594 non-null object\n",
      "Workplace. Topic:Does your workplace promote and practice the principles of employment equity?                                                                   587 non-null object\n",
      "Workplace. Topic:Does your workplace value the diversity of its employees?                                                                                       586 non-null object\n",
      "Workplace. Topic:Would you recommend the Institute as an employer to others?                                                                                     581 non-null object\n",
      "Gender. What is your Gender?                                                                                                                                     596 non-null object\n",
      "CurrentAge. Current Age                                                                                                                                          596 non-null object\n",
      "Employment Type. Employment Type                                                                                                                                 596 non-null object\n",
      "Classification. Classification                                                                                                                                   596 non-null object\n",
      "LengthofServiceOverall. Overall Length of Service at Institute (in years)                                                                                        596 non-null object\n",
      "LengthofServiceCurrent. Length of Service at current workplace (in years)                                                                                        596 non-null object\n",
      "dtypes: float64(2), object(70)\n",
      "memory usage: 395.0+ KB\n"
     ]
    }
   ],
   "source": [
    "tafe_survey.info()"
   ]
  },
  {
   "cell_type": "code",
   "execution_count": 45,
   "metadata": {
    "collapsed": false
   },
   "outputs": [
    {
     "data": {
      "text/html": [
       "<div>\n",
       "<style scoped>\n",
       "    .dataframe tbody tr th:only-of-type {\n",
       "        vertical-align: middle;\n",
       "    }\n",
       "\n",
       "    .dataframe tbody tr th {\n",
       "        vertical-align: top;\n",
       "    }\n",
       "\n",
       "    .dataframe thead th {\n",
       "        text-align: right;\n",
       "    }\n",
       "</style>\n",
       "<table border=\"1\" class=\"dataframe\">\n",
       "  <thead>\n",
       "    <tr style=\"text-align: right;\">\n",
       "      <th></th>\n",
       "      <th>ID</th>\n",
       "      <th>SeparationType</th>\n",
       "      <th>Cease Date</th>\n",
       "      <th>DETE Start Date</th>\n",
       "      <th>Role Start Date</th>\n",
       "      <th>Position</th>\n",
       "      <th>Classification</th>\n",
       "      <th>Region</th>\n",
       "      <th>Business Unit</th>\n",
       "      <th>Employment Status</th>\n",
       "      <th>...</th>\n",
       "      <th>Kept informed</th>\n",
       "      <th>Wellness programs</th>\n",
       "      <th>Health &amp; Safety</th>\n",
       "      <th>Gender</th>\n",
       "      <th>Age</th>\n",
       "      <th>Aboriginal</th>\n",
       "      <th>Torres Strait</th>\n",
       "      <th>South Sea</th>\n",
       "      <th>Disability</th>\n",
       "      <th>NESB</th>\n",
       "    </tr>\n",
       "  </thead>\n",
       "  <tbody>\n",
       "    <tr>\n",
       "      <th>0</th>\n",
       "      <td>1</td>\n",
       "      <td>Ill Health Retirement</td>\n",
       "      <td>08/2012</td>\n",
       "      <td>1984</td>\n",
       "      <td>2004</td>\n",
       "      <td>Public Servant</td>\n",
       "      <td>A01-A04</td>\n",
       "      <td>Central Office</td>\n",
       "      <td>Corporate Strategy and Peformance</td>\n",
       "      <td>Permanent Full-time</td>\n",
       "      <td>...</td>\n",
       "      <td>N</td>\n",
       "      <td>N</td>\n",
       "      <td>N</td>\n",
       "      <td>Male</td>\n",
       "      <td>56-60</td>\n",
       "      <td>NaN</td>\n",
       "      <td>NaN</td>\n",
       "      <td>NaN</td>\n",
       "      <td>NaN</td>\n",
       "      <td>Yes</td>\n",
       "    </tr>\n",
       "    <tr>\n",
       "      <th>1</th>\n",
       "      <td>2</td>\n",
       "      <td>Voluntary Early Retirement (VER)</td>\n",
       "      <td>08/2012</td>\n",
       "      <td>Not Stated</td>\n",
       "      <td>Not Stated</td>\n",
       "      <td>Public Servant</td>\n",
       "      <td>AO5-AO7</td>\n",
       "      <td>Central Office</td>\n",
       "      <td>Corporate Strategy and Peformance</td>\n",
       "      <td>Permanent Full-time</td>\n",
       "      <td>...</td>\n",
       "      <td>N</td>\n",
       "      <td>N</td>\n",
       "      <td>N</td>\n",
       "      <td>Male</td>\n",
       "      <td>56-60</td>\n",
       "      <td>NaN</td>\n",
       "      <td>NaN</td>\n",
       "      <td>NaN</td>\n",
       "      <td>NaN</td>\n",
       "      <td>NaN</td>\n",
       "    </tr>\n",
       "    <tr>\n",
       "      <th>2</th>\n",
       "      <td>3</td>\n",
       "      <td>Voluntary Early Retirement (VER)</td>\n",
       "      <td>05/2012</td>\n",
       "      <td>2011</td>\n",
       "      <td>2011</td>\n",
       "      <td>Schools Officer</td>\n",
       "      <td>NaN</td>\n",
       "      <td>Central Office</td>\n",
       "      <td>Education Queensland</td>\n",
       "      <td>Permanent Full-time</td>\n",
       "      <td>...</td>\n",
       "      <td>N</td>\n",
       "      <td>N</td>\n",
       "      <td>N</td>\n",
       "      <td>Male</td>\n",
       "      <td>61 or older</td>\n",
       "      <td>NaN</td>\n",
       "      <td>NaN</td>\n",
       "      <td>NaN</td>\n",
       "      <td>NaN</td>\n",
       "      <td>NaN</td>\n",
       "    </tr>\n",
       "    <tr>\n",
       "      <th>3</th>\n",
       "      <td>4</td>\n",
       "      <td>Resignation-Other reasons</td>\n",
       "      <td>05/2012</td>\n",
       "      <td>2005</td>\n",
       "      <td>2006</td>\n",
       "      <td>Teacher</td>\n",
       "      <td>Primary</td>\n",
       "      <td>Central Queensland</td>\n",
       "      <td>NaN</td>\n",
       "      <td>Permanent Full-time</td>\n",
       "      <td>...</td>\n",
       "      <td>A</td>\n",
       "      <td>N</td>\n",
       "      <td>A</td>\n",
       "      <td>Female</td>\n",
       "      <td>36-40</td>\n",
       "      <td>NaN</td>\n",
       "      <td>NaN</td>\n",
       "      <td>NaN</td>\n",
       "      <td>NaN</td>\n",
       "      <td>NaN</td>\n",
       "    </tr>\n",
       "    <tr>\n",
       "      <th>4</th>\n",
       "      <td>5</td>\n",
       "      <td>Age Retirement</td>\n",
       "      <td>05/2012</td>\n",
       "      <td>1970</td>\n",
       "      <td>1989</td>\n",
       "      <td>Head of Curriculum/Head of Special Education</td>\n",
       "      <td>NaN</td>\n",
       "      <td>South East</td>\n",
       "      <td>NaN</td>\n",
       "      <td>Permanent Full-time</td>\n",
       "      <td>...</td>\n",
       "      <td>N</td>\n",
       "      <td>A</td>\n",
       "      <td>M</td>\n",
       "      <td>Female</td>\n",
       "      <td>61 or older</td>\n",
       "      <td>NaN</td>\n",
       "      <td>NaN</td>\n",
       "      <td>NaN</td>\n",
       "      <td>NaN</td>\n",
       "      <td>NaN</td>\n",
       "    </tr>\n",
       "  </tbody>\n",
       "</table>\n",
       "<p>5 rows × 56 columns</p>\n",
       "</div>"
      ],
      "text/plain": [
       "   ID                    SeparationType Cease Date DETE Start Date  \\\n",
       "0   1             Ill Health Retirement    08/2012            1984   \n",
       "1   2  Voluntary Early Retirement (VER)    08/2012      Not Stated   \n",
       "2   3  Voluntary Early Retirement (VER)    05/2012            2011   \n",
       "3   4         Resignation-Other reasons    05/2012            2005   \n",
       "4   5                    Age Retirement    05/2012            1970   \n",
       "\n",
       "  Role Start Date                                      Position  \\\n",
       "0            2004                                Public Servant   \n",
       "1      Not Stated                                Public Servant   \n",
       "2            2011                               Schools Officer   \n",
       "3            2006                                       Teacher   \n",
       "4            1989  Head of Curriculum/Head of Special Education   \n",
       "\n",
       "  Classification              Region                      Business Unit  \\\n",
       "0        A01-A04      Central Office  Corporate Strategy and Peformance   \n",
       "1        AO5-AO7      Central Office  Corporate Strategy and Peformance   \n",
       "2            NaN      Central Office               Education Queensland   \n",
       "3        Primary  Central Queensland                                NaN   \n",
       "4            NaN          South East                                NaN   \n",
       "\n",
       "     Employment Status  ...   Kept informed  Wellness programs  \\\n",
       "0  Permanent Full-time  ...               N                  N   \n",
       "1  Permanent Full-time  ...               N                  N   \n",
       "2  Permanent Full-time  ...               N                  N   \n",
       "3  Permanent Full-time  ...               A                  N   \n",
       "4  Permanent Full-time  ...               N                  A   \n",
       "\n",
       "   Health & Safety  Gender          Age  Aboriginal  Torres Strait  South Sea  \\\n",
       "0                N    Male        56-60         NaN            NaN        NaN   \n",
       "1                N    Male        56-60         NaN            NaN        NaN   \n",
       "2                N    Male  61 or older         NaN            NaN        NaN   \n",
       "3                A  Female        36-40         NaN            NaN        NaN   \n",
       "4                M  Female  61 or older         NaN            NaN        NaN   \n",
       "\n",
       "   Disability  NESB  \n",
       "0         NaN   Yes  \n",
       "1         NaN   NaN  \n",
       "2         NaN   NaN  \n",
       "3         NaN   NaN  \n",
       "4         NaN   NaN  \n",
       "\n",
       "[5 rows x 56 columns]"
      ]
     },
     "execution_count": 45,
     "metadata": {},
     "output_type": "execute_result"
    }
   ],
   "source": [
    "dete_survey.head()"
   ]
  },
  {
   "cell_type": "code",
   "execution_count": 46,
   "metadata": {
    "collapsed": false
   },
   "outputs": [
    {
     "data": {
      "text/html": [
       "<div>\n",
       "<style scoped>\n",
       "    .dataframe tbody tr th:only-of-type {\n",
       "        vertical-align: middle;\n",
       "    }\n",
       "\n",
       "    .dataframe tbody tr th {\n",
       "        vertical-align: top;\n",
       "    }\n",
       "\n",
       "    .dataframe thead th {\n",
       "        text-align: right;\n",
       "    }\n",
       "</style>\n",
       "<table border=\"1\" class=\"dataframe\">\n",
       "  <thead>\n",
       "    <tr style=\"text-align: right;\">\n",
       "      <th></th>\n",
       "      <th>Record ID</th>\n",
       "      <th>Institute</th>\n",
       "      <th>WorkArea</th>\n",
       "      <th>CESSATION YEAR</th>\n",
       "      <th>Reason for ceasing employment</th>\n",
       "      <th>Contributing Factors. Career Move - Public Sector</th>\n",
       "      <th>Contributing Factors. Career Move - Private Sector</th>\n",
       "      <th>Contributing Factors. Career Move - Self-employment</th>\n",
       "      <th>Contributing Factors. Ill Health</th>\n",
       "      <th>Contributing Factors. Maternity/Family</th>\n",
       "      <th>...</th>\n",
       "      <th>Workplace. Topic:Does your workplace promote a work culture free from all forms of unlawful discrimination?</th>\n",
       "      <th>Workplace. Topic:Does your workplace promote and practice the principles of employment equity?</th>\n",
       "      <th>Workplace. Topic:Does your workplace value the diversity of its employees?</th>\n",
       "      <th>Workplace. Topic:Would you recommend the Institute as an employer to others?</th>\n",
       "      <th>Gender. What is your Gender?</th>\n",
       "      <th>CurrentAge. Current Age</th>\n",
       "      <th>Employment Type. Employment Type</th>\n",
       "      <th>Classification. Classification</th>\n",
       "      <th>LengthofServiceOverall. Overall Length of Service at Institute (in years)</th>\n",
       "      <th>LengthofServiceCurrent. Length of Service at current workplace (in years)</th>\n",
       "    </tr>\n",
       "  </thead>\n",
       "  <tbody>\n",
       "    <tr>\n",
       "      <th>0</th>\n",
       "      <td>6.341330e+17</td>\n",
       "      <td>Southern Queensland Institute of TAFE</td>\n",
       "      <td>Non-Delivery (corporate)</td>\n",
       "      <td>2010.0</td>\n",
       "      <td>Contract Expired</td>\n",
       "      <td>NaN</td>\n",
       "      <td>NaN</td>\n",
       "      <td>NaN</td>\n",
       "      <td>NaN</td>\n",
       "      <td>NaN</td>\n",
       "      <td>...</td>\n",
       "      <td>Yes</td>\n",
       "      <td>Yes</td>\n",
       "      <td>Yes</td>\n",
       "      <td>Yes</td>\n",
       "      <td>Female</td>\n",
       "      <td>26  30</td>\n",
       "      <td>Temporary Full-time</td>\n",
       "      <td>Administration (AO)</td>\n",
       "      <td>1-2</td>\n",
       "      <td>1-2</td>\n",
       "    </tr>\n",
       "    <tr>\n",
       "      <th>1</th>\n",
       "      <td>6.341337e+17</td>\n",
       "      <td>Mount Isa Institute of TAFE</td>\n",
       "      <td>Non-Delivery (corporate)</td>\n",
       "      <td>2010.0</td>\n",
       "      <td>Retirement</td>\n",
       "      <td>-</td>\n",
       "      <td>-</td>\n",
       "      <td>-</td>\n",
       "      <td>-</td>\n",
       "      <td>-</td>\n",
       "      <td>...</td>\n",
       "      <td>Yes</td>\n",
       "      <td>Yes</td>\n",
       "      <td>Yes</td>\n",
       "      <td>Yes</td>\n",
       "      <td>NaN</td>\n",
       "      <td>NaN</td>\n",
       "      <td>NaN</td>\n",
       "      <td>NaN</td>\n",
       "      <td>NaN</td>\n",
       "      <td>NaN</td>\n",
       "    </tr>\n",
       "    <tr>\n",
       "      <th>2</th>\n",
       "      <td>6.341388e+17</td>\n",
       "      <td>Mount Isa Institute of TAFE</td>\n",
       "      <td>Delivery (teaching)</td>\n",
       "      <td>2010.0</td>\n",
       "      <td>Retirement</td>\n",
       "      <td>-</td>\n",
       "      <td>-</td>\n",
       "      <td>-</td>\n",
       "      <td>-</td>\n",
       "      <td>-</td>\n",
       "      <td>...</td>\n",
       "      <td>Yes</td>\n",
       "      <td>Yes</td>\n",
       "      <td>Yes</td>\n",
       "      <td>Yes</td>\n",
       "      <td>NaN</td>\n",
       "      <td>NaN</td>\n",
       "      <td>NaN</td>\n",
       "      <td>NaN</td>\n",
       "      <td>NaN</td>\n",
       "      <td>NaN</td>\n",
       "    </tr>\n",
       "    <tr>\n",
       "      <th>3</th>\n",
       "      <td>6.341399e+17</td>\n",
       "      <td>Mount Isa Institute of TAFE</td>\n",
       "      <td>Non-Delivery (corporate)</td>\n",
       "      <td>2010.0</td>\n",
       "      <td>Resignation</td>\n",
       "      <td>-</td>\n",
       "      <td>-</td>\n",
       "      <td>-</td>\n",
       "      <td>-</td>\n",
       "      <td>-</td>\n",
       "      <td>...</td>\n",
       "      <td>Yes</td>\n",
       "      <td>Yes</td>\n",
       "      <td>Yes</td>\n",
       "      <td>Yes</td>\n",
       "      <td>NaN</td>\n",
       "      <td>NaN</td>\n",
       "      <td>NaN</td>\n",
       "      <td>NaN</td>\n",
       "      <td>NaN</td>\n",
       "      <td>NaN</td>\n",
       "    </tr>\n",
       "    <tr>\n",
       "      <th>4</th>\n",
       "      <td>6.341466e+17</td>\n",
       "      <td>Southern Queensland Institute of TAFE</td>\n",
       "      <td>Delivery (teaching)</td>\n",
       "      <td>2010.0</td>\n",
       "      <td>Resignation</td>\n",
       "      <td>-</td>\n",
       "      <td>Career Move - Private Sector</td>\n",
       "      <td>-</td>\n",
       "      <td>-</td>\n",
       "      <td>-</td>\n",
       "      <td>...</td>\n",
       "      <td>Yes</td>\n",
       "      <td>Yes</td>\n",
       "      <td>Yes</td>\n",
       "      <td>Yes</td>\n",
       "      <td>Male</td>\n",
       "      <td>41  45</td>\n",
       "      <td>Permanent Full-time</td>\n",
       "      <td>Teacher (including LVT)</td>\n",
       "      <td>3-4</td>\n",
       "      <td>3-4</td>\n",
       "    </tr>\n",
       "  </tbody>\n",
       "</table>\n",
       "<p>5 rows × 72 columns</p>\n",
       "</div>"
      ],
      "text/plain": [
       "      Record ID                              Institute  \\\n",
       "0  6.341330e+17  Southern Queensland Institute of TAFE   \n",
       "1  6.341337e+17            Mount Isa Institute of TAFE   \n",
       "2  6.341388e+17            Mount Isa Institute of TAFE   \n",
       "3  6.341399e+17            Mount Isa Institute of TAFE   \n",
       "4  6.341466e+17  Southern Queensland Institute of TAFE   \n",
       "\n",
       "                   WorkArea  CESSATION YEAR Reason for ceasing employment  \\\n",
       "0  Non-Delivery (corporate)          2010.0              Contract Expired   \n",
       "1  Non-Delivery (corporate)          2010.0                    Retirement   \n",
       "2       Delivery (teaching)          2010.0                    Retirement   \n",
       "3  Non-Delivery (corporate)          2010.0                   Resignation   \n",
       "4       Delivery (teaching)          2010.0                   Resignation   \n",
       "\n",
       "  Contributing Factors. Career Move - Public Sector   \\\n",
       "0                                                NaN   \n",
       "1                                                  -   \n",
       "2                                                  -   \n",
       "3                                                  -   \n",
       "4                                                  -   \n",
       "\n",
       "  Contributing Factors. Career Move - Private Sector   \\\n",
       "0                                                NaN    \n",
       "1                                                  -    \n",
       "2                                                  -    \n",
       "3                                                  -    \n",
       "4                       Career Move - Private Sector    \n",
       "\n",
       "  Contributing Factors. Career Move - Self-employment  \\\n",
       "0                                                NaN    \n",
       "1                                                  -    \n",
       "2                                                  -    \n",
       "3                                                  -    \n",
       "4                                                  -    \n",
       "\n",
       "  Contributing Factors. Ill Health Contributing Factors. Maternity/Family  \\\n",
       "0                              NaN                                    NaN   \n",
       "1                                -                                      -   \n",
       "2                                -                                      -   \n",
       "3                                -                                      -   \n",
       "4                                -                                      -   \n",
       "\n",
       "                                     ...                                     \\\n",
       "0                                    ...                                      \n",
       "1                                    ...                                      \n",
       "2                                    ...                                      \n",
       "3                                    ...                                      \n",
       "4                                    ...                                      \n",
       "\n",
       "  Workplace. Topic:Does your workplace promote a work culture free from all forms of unlawful discrimination?  \\\n",
       "0                                                Yes                                                            \n",
       "1                                                Yes                                                            \n",
       "2                                                Yes                                                            \n",
       "3                                                Yes                                                            \n",
       "4                                                Yes                                                            \n",
       "\n",
       "  Workplace. Topic:Does your workplace promote and practice the principles of employment equity?  \\\n",
       "0                                                Yes                                               \n",
       "1                                                Yes                                               \n",
       "2                                                Yes                                               \n",
       "3                                                Yes                                               \n",
       "4                                                Yes                                               \n",
       "\n",
       "  Workplace. Topic:Does your workplace value the diversity of its employees?  \\\n",
       "0                                                Yes                           \n",
       "1                                                Yes                           \n",
       "2                                                Yes                           \n",
       "3                                                Yes                           \n",
       "4                                                Yes                           \n",
       "\n",
       "  Workplace. Topic:Would you recommend the Institute as an employer to others?  \\\n",
       "0                                                Yes                             \n",
       "1                                                Yes                             \n",
       "2                                                Yes                             \n",
       "3                                                Yes                             \n",
       "4                                                Yes                             \n",
       "\n",
       "  Gender. What is your Gender? CurrentAge. Current Age  \\\n",
       "0                       Female                  26  30   \n",
       "1                          NaN                     NaN   \n",
       "2                          NaN                     NaN   \n",
       "3                          NaN                     NaN   \n",
       "4                         Male                  41  45   \n",
       "\n",
       "  Employment Type. Employment Type Classification. Classification  \\\n",
       "0              Temporary Full-time            Administration (AO)   \n",
       "1                              NaN                            NaN   \n",
       "2                              NaN                            NaN   \n",
       "3                              NaN                            NaN   \n",
       "4              Permanent Full-time        Teacher (including LVT)   \n",
       "\n",
       "  LengthofServiceOverall. Overall Length of Service at Institute (in years)  \\\n",
       "0                                                1-2                          \n",
       "1                                                NaN                          \n",
       "2                                                NaN                          \n",
       "3                                                NaN                          \n",
       "4                                                3-4                          \n",
       "\n",
       "  LengthofServiceCurrent. Length of Service at current workplace (in years)  \n",
       "0                                                1-2                         \n",
       "1                                                NaN                         \n",
       "2                                                NaN                         \n",
       "3                                                NaN                         \n",
       "4                                                3-4                         \n",
       "\n",
       "[5 rows x 72 columns]"
      ]
     },
     "execution_count": 46,
     "metadata": {},
     "output_type": "execute_result"
    }
   ],
   "source": [
    "tafe_survey.head()"
   ]
  },
  {
   "cell_type": "code",
   "execution_count": 47,
   "metadata": {
    "collapsed": false
   },
   "outputs": [
    {
     "data": {
      "text/plain": [
       "ID                                       0\n",
       "SeparationType                           0\n",
       "Cease Date                               0\n",
       "DETE Start Date                          0\n",
       "Role Start Date                          0\n",
       "Position                                 5\n",
       "Classification                         367\n",
       "Region                                   0\n",
       "Business Unit                          696\n",
       "Employment Status                        5\n",
       "Career move to public sector             0\n",
       "Career move to private sector            0\n",
       "Interpersonal conflicts                  0\n",
       "Job dissatisfaction                      0\n",
       "Dissatisfaction with the department      0\n",
       "Physical work environment                0\n",
       "Lack of recognition                      0\n",
       "Lack of job security                     0\n",
       "Work location                            0\n",
       "Employment conditions                    0\n",
       "Maternity/family                         0\n",
       "Relocation                               0\n",
       "Study/Travel                             0\n",
       "Ill Health                               0\n",
       "Traumatic incident                       0\n",
       "Work life balance                        0\n",
       "Workload                                 0\n",
       "None of the above                        0\n",
       "Professional Development                14\n",
       "Opportunities for promotion             87\n",
       "Staff morale                             6\n",
       "Workplace issue                         34\n",
       "Physical environment                     5\n",
       "Worklife balance                         7\n",
       "Stress and pressure support             12\n",
       "Performance of supervisor                9\n",
       "Peer support                            10\n",
       "Initiative                               9\n",
       "Skills                                  11\n",
       "Coach                                   55\n",
       "Career Aspirations                      76\n",
       "Feedback                                30\n",
       "Further PD                              54\n",
       "Communication                            8\n",
       "My say                                  10\n",
       "Information                              6\n",
       "Kept informed                            9\n",
       "Wellness programs                       56\n",
       "Health & Safety                         29\n",
       "Gender                                  24\n",
       "Age                                     11\n",
       "Aboriginal                             806\n",
       "Torres Strait                          819\n",
       "South Sea                              815\n",
       "Disability                             799\n",
       "NESB                                   790\n",
       "dtype: int64"
      ]
     },
     "execution_count": 47,
     "metadata": {},
     "output_type": "execute_result"
    }
   ],
   "source": [
    "dete_survey.isnull().sum()"
   ]
  },
  {
   "cell_type": "code",
   "execution_count": 48,
   "metadata": {
    "collapsed": false,
    "scrolled": true
   },
   "outputs": [
    {
     "data": {
      "text/plain": [
       "Record ID                                                                                                                                                          0\n",
       "Institute                                                                                                                                                          0\n",
       "WorkArea                                                                                                                                                           0\n",
       "CESSATION YEAR                                                                                                                                                     7\n",
       "Reason for ceasing employment                                                                                                                                      1\n",
       "Contributing Factors. Career Move - Public Sector                                                                                                                265\n",
       "Contributing Factors. Career Move - Private Sector                                                                                                               265\n",
       "Contributing Factors. Career Move - Self-employment                                                                                                              265\n",
       "Contributing Factors. Ill Health                                                                                                                                 265\n",
       "Contributing Factors. Maternity/Family                                                                                                                           265\n",
       "Contributing Factors. Dissatisfaction                                                                                                                            265\n",
       "Contributing Factors. Job Dissatisfaction                                                                                                                        265\n",
       "Contributing Factors. Interpersonal Conflict                                                                                                                     265\n",
       "Contributing Factors. Study                                                                                                                                      265\n",
       "Contributing Factors. Travel                                                                                                                                     265\n",
       "Contributing Factors. Other                                                                                                                                      265\n",
       "Contributing Factors. NONE                                                                                                                                       265\n",
       "Main Factor. Which of these was the main factor for leaving?                                                                                                     589\n",
       "InstituteViews. Topic:1. I feel the senior leadership had a clear vision and direction                                                                            94\n",
       "InstituteViews. Topic:2. I was given access to skills training to help me do my job better                                                                        89\n",
       "InstituteViews. Topic:3. I was given adequate opportunities for personal development                                                                              92\n",
       "InstituteViews. Topic:4. I was given adequate opportunities for promotion within %Institute]Q25LBL%                                                               94\n",
       "InstituteViews. Topic:5. I felt the salary for the job was right for the responsibilities I had                                                                   87\n",
       "InstituteViews. Topic:6. The organisation recognised when staff did good work                                                                                     95\n",
       "InstituteViews. Topic:7. Management was generally supportive of me                                                                                                88\n",
       "InstituteViews. Topic:8. Management was generally supportive of my team                                                                                           94\n",
       "InstituteViews. Topic:9. I was kept informed of the changes in the organisation which would affect me                                                             92\n",
       "InstituteViews. Topic:10. Staff morale was positive within the Institute                                                                                         100\n",
       "InstituteViews. Topic:11. If I had a workplace issue it was dealt with quickly                                                                                   101\n",
       "InstituteViews. Topic:12. If I had a workplace issue it was dealt with efficiently                                                                               105\n",
       "                                                                                                                                                                ... \n",
       "WorkUnitViews. Topic:25. My job allowed me to balance the demands of work and family to my satisfaction                                                           91\n",
       "WorkUnitViews. Topic:26. My supervisor gave me adequate personal recognition and feedback on my performance                                                       96\n",
       "WorkUnitViews. Topic:27. My working environment was satisfactory e.g. sufficient space, good lighting, suitable seating and working area                          92\n",
       "WorkUnitViews. Topic:28. I was given the opportunity to mentor and coach others in order for me to pass on my skills and knowledge prior to my cessation date     93\n",
       "WorkUnitViews. Topic:29. There was adequate communication between staff in my unit                                                                                99\n",
       "WorkUnitViews. Topic:30. Staff morale was positive within my work unit                                                                                            96\n",
       "Induction. Did you undertake Workplace Induction?                                                                                                                 83\n",
       "InductionInfo. Topic:Did you undertake a Corporate Induction?                                                                                                    270\n",
       "InductionInfo. Topic:Did you undertake a Institute Induction?                                                                                                    219\n",
       "InductionInfo. Topic: Did you undertake Team Induction?                                                                                                          262\n",
       "InductionInfo. Face to Face Topic:Did you undertake a Corporate Induction; Category:How it was conducted?                                                        147\n",
       "InductionInfo. On-line Topic:Did you undertake a Corporate Induction; Category:How it was conducted?                                                             147\n",
       "InductionInfo. Induction Manual Topic:Did you undertake a Corporate Induction?                                                                                   147\n",
       "InductionInfo. Face to Face Topic:Did you undertake a Institute Induction?                                                                                       172\n",
       "InductionInfo. On-line Topic:Did you undertake a Institute Induction?                                                                                            147\n",
       "InductionInfo. Induction Manual Topic:Did you undertake a Institute Induction?                                                                                   149\n",
       "InductionInfo. Face to Face Topic: Did you undertake Team Induction; Category?                                                                                   147\n",
       "InductionInfo. On-line Topic: Did you undertake Team Induction?process you undertook and how it was conducted.]                                                  147\n",
       "InductionInfo. Induction Manual Topic: Did you undertake Team Induction?                                                                                         147\n",
       "Workplace. Topic:Did you and your Manager develop a Performance and Professional Development Plan (PPDP)?                                                         94\n",
       "Workplace. Topic:Does your workplace promote a work culture free from all forms of unlawful discrimination?                                                      108\n",
       "Workplace. Topic:Does your workplace promote and practice the principles of employment equity?                                                                   115\n",
       "Workplace. Topic:Does your workplace value the diversity of its employees?                                                                                       116\n",
       "Workplace. Topic:Would you recommend the Institute as an employer to others?                                                                                     121\n",
       "Gender. What is your Gender?                                                                                                                                     106\n",
       "CurrentAge. Current Age                                                                                                                                          106\n",
       "Employment Type. Employment Type                                                                                                                                 106\n",
       "Classification. Classification                                                                                                                                   106\n",
       "LengthofServiceOverall. Overall Length of Service at Institute (in years)                                                                                        106\n",
       "LengthofServiceCurrent. Length of Service at current workplace (in years)                                                                                        106\n",
       "Length: 72, dtype: int64"
      ]
     },
     "execution_count": 48,
     "metadata": {},
     "output_type": "execute_result"
    }
   ],
   "source": [
    "tafe_survey.isnull().sum()"
   ]
  },
  {
   "cell_type": "markdown",
   "metadata": {},
   "source": [
    "## Identify Missing Values and Drop Unnecessary Columns"
   ]
  },
  {
   "cell_type": "markdown",
   "metadata": {},
   "source": [
    "Previously, we saw that both datasets have columns we do not need for our analysis and some columns represent the same data while named differently. We should not forget the **dete_survey** has **Not Stated** missing values. Let's work on that."
   ]
  },
  {
   "cell_type": "code",
   "execution_count": 49,
   "metadata": {
    "collapsed": false
   },
   "outputs": [],
   "source": [
    "dete_survey = pd.read_csv(\"dete_survey.csv\", na_values = \"Not Stated\")\n",
    "dete_survey_updated = dete_survey.drop(dete_survey.columns[28:49], axis = 1)\n",
    "tafe_survey_updated = tafe_survey.drop(tafe_survey.columns[17:66], axis = 1)"
   ]
  },
  {
   "cell_type": "code",
   "execution_count": 50,
   "metadata": {
    "collapsed": false
   },
   "outputs": [
    {
     "name": "stdout",
     "output_type": "stream",
     "text": [
      "(822, 35)\n"
     ]
    },
    {
     "data": {
      "text/plain": [
       "(702, 23)"
      ]
     },
     "execution_count": 50,
     "metadata": {},
     "output_type": "execute_result"
    }
   ],
   "source": [
    "print(dete_survey_updated.shape)\n",
    "tafe_survey_updated.shape"
   ]
  },
  {
   "cell_type": "markdown",
   "metadata": {},
   "source": [
    "Now that we corrected the missing values and dropped some columns we can proceed further."
   ]
  },
  {
   "cell_type": "markdown",
   "metadata": {},
   "source": [
    "## Clean Column Names"
   ]
  },
  {
   "cell_type": "code",
   "execution_count": 51,
   "metadata": {
    "collapsed": false
   },
   "outputs": [
    {
     "data": {
      "text/plain": [
       "Index(['id', 'separationtype', 'cease_date', 'dete_start_date',\n",
       "       'role_start_date', 'position', 'classification', 'region',\n",
       "       'business_unit', 'employment_status', 'career_move_to_public_sector',\n",
       "       'career_move_to_private_sector', 'interpersonal_conflicts',\n",
       "       'job_dissatisfaction', 'dissatisfaction_with_the_department',\n",
       "       'physical_work_environment', 'lack_of_recognition',\n",
       "       'lack_of_job_security', 'work_location', 'employment_conditions',\n",
       "       'maternity/family', 'relocation', 'study/travel', 'ill_health',\n",
       "       'traumatic_incident', 'work_life_balance', 'workload',\n",
       "       'none_of_the_above', 'gender', 'age', 'aboriginal', 'torres_strait',\n",
       "       'south_sea', 'disability', 'nesb'],\n",
       "      dtype='object')"
      ]
     },
     "execution_count": 51,
     "metadata": {},
     "output_type": "execute_result"
    }
   ],
   "source": [
    "dete_survey_updated.columns = dete_survey_updated.columns.str.replace(\" \", \"_\").str.lower().str.strip()\n",
    "mapping = {'Record ID': 'id', 'CESSATION YEAR': 'cease_date', 'Reason for ceasing employment': 'separationtype', 'Gender. What is your Gender?': 'gender', 'CurrentAge. Current Age': 'age',\n",
    "       'Employment Type. Employment Type': 'employment_status',\n",
    "       'Classification. Classification': 'position',\n",
    "       'LengthofServiceOverall. Overall Length of Service at Institute (in years)': 'institute_service',\n",
    "       'LengthofServiceCurrent. Length of Service at current workplace (in years)': 'role_service'}\n",
    "tafe_survey_updated = tafe_survey_updated.rename(mapping, axis = 1)\n",
    "dete_survey_updated.columns\n"
   ]
  },
  {
   "cell_type": "code",
   "execution_count": 52,
   "metadata": {
    "collapsed": false,
    "scrolled": true
   },
   "outputs": [
    {
     "data": {
      "text/plain": [
       "Index(['id', 'Institute', 'WorkArea', 'cease_date', 'separationtype',\n",
       "       'Contributing Factors. Career Move - Public Sector ',\n",
       "       'Contributing Factors. Career Move - Private Sector ',\n",
       "       'Contributing Factors. Career Move - Self-employment',\n",
       "       'Contributing Factors. Ill Health',\n",
       "       'Contributing Factors. Maternity/Family',\n",
       "       'Contributing Factors. Dissatisfaction',\n",
       "       'Contributing Factors. Job Dissatisfaction',\n",
       "       'Contributing Factors. Interpersonal Conflict',\n",
       "       'Contributing Factors. Study', 'Contributing Factors. Travel',\n",
       "       'Contributing Factors. Other', 'Contributing Factors. NONE', 'gender',\n",
       "       'age', 'employment_status', 'position', 'institute_service',\n",
       "       'role_service'],\n",
       "      dtype='object')"
      ]
     },
     "execution_count": 52,
     "metadata": {},
     "output_type": "execute_result"
    }
   ],
   "source": [
    "tafe_survey_updated.columns"
   ]
  },
  {
   "cell_type": "markdown",
   "metadata": {},
   "source": [
    "## Filter the data"
   ]
  },
  {
   "cell_type": "markdown",
   "metadata": {},
   "source": [
    "In this work we only focus on the employees who resigned so we will start with the **separationtype** column in both datasets."
   ]
  },
  {
   "cell_type": "code",
   "execution_count": 53,
   "metadata": {
    "collapsed": false,
    "scrolled": true
   },
   "outputs": [
    {
     "data": {
      "text/plain": [
       "Age Retirement                          285\n",
       "Resignation-Other reasons               150\n",
       "Resignation-Other employer               91\n",
       "Resignation-Move overseas/interstate     70\n",
       "Voluntary Early Retirement (VER)         67\n",
       "Ill Health Retirement                    61\n",
       "Other                                    49\n",
       "Contract Expired                         34\n",
       "Termination                              15\n",
       "Name: separationtype, dtype: int64"
      ]
     },
     "execution_count": 53,
     "metadata": {},
     "output_type": "execute_result"
    }
   ],
   "source": [
    "dete_survey_updated[\"separationtype\"].value_counts()"
   ]
  },
  {
   "cell_type": "code",
   "execution_count": 54,
   "metadata": {
    "collapsed": false
   },
   "outputs": [
    {
     "data": {
      "text/plain": [
       "Resignation                 340\n",
       "Contract Expired            127\n",
       "Retrenchment/ Redundancy    104\n",
       "Retirement                   82\n",
       "Transfer                     25\n",
       "Termination                  23\n",
       "Name: separationtype, dtype: int64"
      ]
     },
     "execution_count": 54,
     "metadata": {},
     "output_type": "execute_result"
    }
   ],
   "source": [
    "tafe_survey_updated[\"separationtype\"].value_counts()"
   ]
  },
  {
   "cell_type": "markdown",
   "metadata": {},
   "source": [
    "We see three different resignation rows in the **dete_survey** set, that we can combine into one named **Resignation**."
   ]
  },
  {
   "cell_type": "code",
   "execution_count": 55,
   "metadata": {
    "collapsed": false
   },
   "outputs": [],
   "source": [
    "dete_survey_updated['separationtype'] = dete_survey_updated['separationtype'].str.split('-').str[0]"
   ]
  },
  {
   "cell_type": "code",
   "execution_count": 56,
   "metadata": {
    "collapsed": false
   },
   "outputs": [
    {
     "data": {
      "text/plain": [
       "Resignation                         311\n",
       "Age Retirement                      285\n",
       "Voluntary Early Retirement (VER)     67\n",
       "Ill Health Retirement                61\n",
       "Other                                49\n",
       "Contract Expired                     34\n",
       "Termination                          15\n",
       "Name: separationtype, dtype: int64"
      ]
     },
     "execution_count": 56,
     "metadata": {},
     "output_type": "execute_result"
    }
   ],
   "source": [
    "dete_survey_updated[\"separationtype\"].value_counts()"
   ]
  },
  {
   "cell_type": "markdown",
   "metadata": {},
   "source": [
    "Now we can select only the rows we need."
   ]
  },
  {
   "cell_type": "code",
   "execution_count": 57,
   "metadata": {
    "collapsed": false
   },
   "outputs": [],
   "source": [
    "dete_resignations = dete_survey_updated[dete_survey_updated['separationtype'] == 'Resignation'].copy()\n",
    "tafe_resignations = tafe_survey_updated[tafe_survey_updated['separationtype'] == 'Resignation'].copy()"
   ]
  },
  {
   "cell_type": "markdown",
   "metadata": {},
   "source": [
    "## Verify the data"
   ]
  },
  {
   "cell_type": "markdown",
   "metadata": {},
   "source": [
    "In this step we will focus on the years from **cease_date** and **dete_start_date**. Since the cease_date is the last year of the person's employment and the dete_start_date is the person's first year of employment, it wouldn't make sense to have years after the current date."
   ]
  },
  {
   "cell_type": "code",
   "execution_count": 58,
   "metadata": {
    "collapsed": false
   },
   "outputs": [
    {
     "data": {
      "text/plain": [
       "2012       126\n",
       "2013        74\n",
       "01/2014     22\n",
       "12/2013     17\n",
       "06/2013     14\n",
       "09/2013     11\n",
       "11/2013      9\n",
       "07/2013      9\n",
       "10/2013      6\n",
       "08/2013      4\n",
       "05/2013      2\n",
       "05/2012      2\n",
       "07/2006      1\n",
       "09/2010      1\n",
       "07/2012      1\n",
       "2010         1\n",
       "Name: cease_date, dtype: int64"
      ]
     },
     "execution_count": 58,
     "metadata": {},
     "output_type": "execute_result"
    }
   ],
   "source": [
    "dete_resignations[\"cease_date\"].value_counts()"
   ]
  },
  {
   "cell_type": "code",
   "execution_count": 59,
   "metadata": {
    "collapsed": false
   },
   "outputs": [
    {
     "data": {
      "text/plain": [
       "2013.0    146\n",
       "2012.0    129\n",
       "2014.0     22\n",
       "2010.0      2\n",
       "2006.0      1\n",
       "Name: cease_date, dtype: int64"
      ]
     },
     "execution_count": 59,
     "metadata": {},
     "output_type": "execute_result"
    }
   ],
   "source": [
    "dete_resignations['cease_date'] = dete_resignations['cease_date'].str.split('/').str[-1]\n",
    "dete_resignations['cease_date'] = dete_resignations['cease_date'].astype(\"float\")\n",
    "\n",
    "\n",
    "dete_resignations['cease_date'].value_counts()"
   ]
  },
  {
   "cell_type": "code",
   "execution_count": 60,
   "metadata": {
    "collapsed": false
   },
   "outputs": [
    {
     "data": {
      "text/plain": [
       "2011.0    24\n",
       "2008.0    22\n",
       "2007.0    21\n",
       "2012.0    21\n",
       "2010.0    17\n",
       "2005.0    15\n",
       "2004.0    14\n",
       "2009.0    13\n",
       "2006.0    13\n",
       "2013.0    10\n",
       "2000.0     9\n",
       "1999.0     8\n",
       "1996.0     6\n",
       "2002.0     6\n",
       "1992.0     6\n",
       "1998.0     6\n",
       "2003.0     6\n",
       "1994.0     6\n",
       "1993.0     5\n",
       "1990.0     5\n",
       "1980.0     5\n",
       "1997.0     5\n",
       "1991.0     4\n",
       "1989.0     4\n",
       "1988.0     4\n",
       "1995.0     4\n",
       "2001.0     3\n",
       "1985.0     3\n",
       "1986.0     3\n",
       "1983.0     2\n",
       "1976.0     2\n",
       "1974.0     2\n",
       "1971.0     1\n",
       "1972.0     1\n",
       "1984.0     1\n",
       "1982.0     1\n",
       "1987.0     1\n",
       "1975.0     1\n",
       "1973.0     1\n",
       "1977.0     1\n",
       "1963.0     1\n",
       "Name: dete_start_date, dtype: int64"
      ]
     },
     "execution_count": 60,
     "metadata": {},
     "output_type": "execute_result"
    }
   ],
   "source": [
    "dete_resignations[\"dete_start_date\"].value_counts()"
   ]
  },
  {
   "cell_type": "code",
   "execution_count": 61,
   "metadata": {
    "collapsed": false
   },
   "outputs": [
    {
     "data": {
      "text/plain": [
       "2011.0    116\n",
       "2012.0     94\n",
       "2010.0     68\n",
       "2013.0     55\n",
       "2009.0      2\n",
       "Name: cease_date, dtype: int64"
      ]
     },
     "execution_count": 61,
     "metadata": {},
     "output_type": "execute_result"
    }
   ],
   "source": [
    "tafe_resignations['cease_date'].value_counts()"
   ]
  },
  {
   "cell_type": "markdown",
   "metadata": {},
   "source": [
    "We notice a mismatch in years in the datasets but we can leave it since it's not our goal. "
   ]
  },
  {
   "cell_type": "markdown",
   "metadata": {},
   "source": [
    "## Create a New Column"
   ]
  },
  {
   "cell_type": "markdown",
   "metadata": {},
   "source": [
    "The main question of this project is : \"Are employees who have only worked for the institutes for a short period of time resigning due to some kind of dissatisfaction? What about employees who have been at the job longer?\"\n",
    "\n",
    "Creating a new column with length of service for each dataset would be a good idea. The **tafe_resignations** set already has this column named **service** so will just rename it to **institute_service**. We will create a similar column in **dete_resignations** and calculate the values by substractin the start date from the cease date. "
   ]
  },
  {
   "cell_type": "code",
   "execution_count": 85,
   "metadata": {
    "collapsed": false
   },
   "outputs": [
    {
     "data": {
      "text/plain": [
       "3       7.0\n",
       "5      18.0\n",
       "8       3.0\n",
       "9      15.0\n",
       "11      3.0\n",
       "12     14.0\n",
       "14      5.0\n",
       "16      NaN\n",
       "20     30.0\n",
       "21     32.0\n",
       "22     15.0\n",
       "23     39.0\n",
       "25     17.0\n",
       "27      7.0\n",
       "33      9.0\n",
       "34      6.0\n",
       "37      1.0\n",
       "39      NaN\n",
       "40     35.0\n",
       "41     38.0\n",
       "42      1.0\n",
       "43     36.0\n",
       "48      3.0\n",
       "50      3.0\n",
       "51     19.0\n",
       "55      4.0\n",
       "57      9.0\n",
       "61      1.0\n",
       "69      6.0\n",
       "71      1.0\n",
       "       ... \n",
       "747     6.0\n",
       "751     8.0\n",
       "752    15.0\n",
       "753     9.0\n",
       "755     1.0\n",
       "762     0.0\n",
       "766     7.0\n",
       "769     5.0\n",
       "770     NaN\n",
       "771    12.0\n",
       "774     NaN\n",
       "784     0.0\n",
       "786    20.0\n",
       "788     NaN\n",
       "789    31.0\n",
       "790     6.0\n",
       "791     NaN\n",
       "794     NaN\n",
       "797     NaN\n",
       "798     NaN\n",
       "802     NaN\n",
       "803    10.0\n",
       "804     6.0\n",
       "806     8.0\n",
       "807     9.0\n",
       "808     3.0\n",
       "815     2.0\n",
       "816     2.0\n",
       "819     5.0\n",
       "821     NaN\n",
       "Name: institute_service, Length: 311, dtype: float64"
      ]
     },
     "execution_count": 85,
     "metadata": {},
     "output_type": "execute_result"
    }
   ],
   "source": [
    "dete_resignations[\"institute_service\"] = dete_resignations[\"cease_date\"] - dete_resignations[\"dete_start_date\"]\n",
    "dete_resignations[\"institute_service\"]"
   ]
  },
  {
   "cell_type": "markdown",
   "metadata": {},
   "source": [
    "## Identify Dissatisfied Employees"
   ]
  },
  {
   "cell_type": "markdown",
   "metadata": {},
   "source": [
    "Below are the columns we'll use to categorize employees as \"dissatisfied\" from each dataframe. \n",
    "\n",
    "1. tafe_survey_updated:\n",
    "   *  Contributing Factors. Dissatisfaction\n",
    "   *  Contributing Factors. Job Dissatisfaction   \n",
    "2. detesurveyupdated:\n",
    "   *  job_dissatisfaction\n",
    "   *  dissatisfaction_with_the_department\n",
    "   *  physical_work_environment\n",
    "   *  lack_of_recognition\n",
    "   *  lack_of_job_security\n",
    "   *  work_location\n",
    "   *  employment_conditions\n",
    "   *  work_life_balance\n",
    "   *  workload\n",
    "   \n",
    "If the employee indicated any of the factors above caused them to resign, we'll mark them as dissatisfied in a new column."
   ]
  },
  {
   "cell_type": "code",
   "execution_count": 64,
   "metadata": {
    "collapsed": false
   },
   "outputs": [
    {
     "data": {
      "text/plain": [
       "-                                         277\n",
       "Contributing Factors. Dissatisfaction      55\n",
       "Name: Contributing Factors. Dissatisfaction, dtype: int64"
      ]
     },
     "execution_count": 64,
     "metadata": {},
     "output_type": "execute_result"
    }
   ],
   "source": [
    "tafe_resignations['Contributing Factors. Dissatisfaction'].value_counts()"
   ]
  },
  {
   "cell_type": "code",
   "execution_count": 65,
   "metadata": {
    "collapsed": false
   },
   "outputs": [
    {
     "data": {
      "text/plain": [
       "-                      270\n",
       "Job Dissatisfaction     62\n",
       "Name: Contributing Factors. Job Dissatisfaction, dtype: int64"
      ]
     },
     "execution_count": 65,
     "metadata": {},
     "output_type": "execute_result"
    }
   ],
   "source": [
    "tafe_resignations['Contributing Factors. Job Dissatisfaction'].value_counts()"
   ]
  },
  {
   "cell_type": "code",
   "execution_count": 66,
   "metadata": {
    "collapsed": false
   },
   "outputs": [
    {
     "data": {
      "text/plain": [
       "False    241\n",
       "True      91\n",
       "NaN        8\n",
       "Name: dissatisfied, dtype: int64"
      ]
     },
     "execution_count": 66,
     "metadata": {},
     "output_type": "execute_result"
    }
   ],
   "source": [
    "def update_vals (value):\n",
    "    if pd.isnull(value):\n",
    "        return np.nan\n",
    "    elif value == \"-\":\n",
    "        return False\n",
    "    else:\n",
    "        return True\n",
    "tafe_resignations['dissatisfied'] = tafe_resignations[['Contributing Factors. Dissatisfaction', 'Contributing Factors. Job Dissatisfaction']].applymap(update_vals).any(1, skipna=False)\n",
    "tafe_resignations_up = tafe_resignations.copy()\n",
    "\n",
    "tafe_resignations_up['dissatisfied'].value_counts(dropna=False)"
   ]
  },
  {
   "cell_type": "markdown",
   "metadata": {},
   "source": [
    "We used the method **df.any()** to write the values to the column, if at least one of the factors matches True - it will mark it as True in our final column. Now repeat the same for the second dataset."
   ]
  },
  {
   "cell_type": "code",
   "execution_count": 97,
   "metadata": {
    "collapsed": false
   },
   "outputs": [
    {
     "data": {
      "text/plain": [
       "False    162\n",
       "True     149\n",
       "Name: dissatisfied, dtype: int64"
      ]
     },
     "execution_count": 97,
     "metadata": {},
     "output_type": "execute_result"
    }
   ],
   "source": [
    "# Update the values in columns related to dissatisfaction to be either True, False, or NaN\n",
    "dete_resignations['dissatisfied'] = dete_resignations[['job_dissatisfaction',\n",
    "       'dissatisfaction_with_the_department', 'physical_work_environment',\n",
    "       'lack_of_recognition', 'lack_of_job_security', 'work_location',\n",
    "       'employment_conditions', 'work_life_balance',\n",
    "       'workload']].any(1, skipna=False)\n",
    "dete_resignations_up = dete_resignations.copy()\n",
    "dete_resignations_up['dissatisfied'].value_counts(dropna=False)"
   ]
  },
  {
   "cell_type": "code",
   "execution_count": 101,
   "metadata": {
    "collapsed": false
   },
   "outputs": [
    {
     "data": {
      "text/plain": [
       "False    270\n",
       "True      41\n",
       "Name: job_dissatisfaction, dtype: int64"
      ]
     },
     "execution_count": 101,
     "metadata": {},
     "output_type": "execute_result"
    }
   ],
   "source": [
    "dete_resignations_up[\"job_dissatisfaction\"].value_counts()"
   ]
  },
  {
   "cell_type": "markdown",
   "metadata": {},
   "source": [
    "## Combine the data"
   ]
  },
  {
   "cell_type": "markdown",
   "metadata": {},
   "source": [
    "Before we combine the data we should add a column to mark the dataset."
   ]
  },
  {
   "cell_type": "code",
   "execution_count": 68,
   "metadata": {
    "collapsed": true
   },
   "outputs": [],
   "source": [
    "dete_resignations_up[\"institute\"] = \"DETE\"\n",
    "tafe_resignations_up[\"institute\"] = \"TAFE\""
   ]
  },
  {
   "cell_type": "code",
   "execution_count": 87,
   "metadata": {
    "collapsed": false
   },
   "outputs": [
    {
     "data": {
      "text/plain": [
       "torres_strait                                            0\n",
       "south_sea                                                3\n",
       "aboriginal                                               7\n",
       "disability                                               8\n",
       "nesb                                                     9\n",
       "business_unit                                           32\n",
       "classification                                         161\n",
       "region                                                 265\n",
       "role_start_date                                        271\n",
       "dete_start_date                                        283\n",
       "role_service                                           290\n",
       "career_move_to_public_sector                           311\n",
       "employment_conditions                                  311\n",
       "work_location                                          311\n",
       "lack_of_job_security                                   311\n",
       "job_dissatisfaction                                    311\n",
       "dissatisfaction_with_the_department                    311\n",
       "workload                                               311\n",
       "lack_of_recognition                                    311\n",
       "interpersonal_conflicts                                311\n",
       "maternity/family                                       311\n",
       "none_of_the_above                                      311\n",
       "physical_work_environment                              311\n",
       "relocation                                             311\n",
       "study/travel                                           311\n",
       "traumatic_incident                                     311\n",
       "work_life_balance                                      311\n",
       "career_move_to_private_sector                          311\n",
       "ill_health                                             311\n",
       "Contributing Factors. Career Move - Private Sector     332\n",
       "Contributing Factors. Other                            332\n",
       "Contributing Factors. Career Move - Public Sector      332\n",
       "Contributing Factors. Career Move - Self-employment    332\n",
       "Contributing Factors. Travel                           332\n",
       "Contributing Factors. Study                            332\n",
       "Contributing Factors. Dissatisfaction                  332\n",
       "Contributing Factors. Ill Health                       332\n",
       "Contributing Factors. NONE                             332\n",
       "Contributing Factors. Maternity/Family                 332\n",
       "Contributing Factors. Job Dissatisfaction              332\n",
       "Contributing Factors. Interpersonal Conflict           332\n",
       "WorkArea                                               340\n",
       "Institute                                              340\n",
       "institute_service                                      563\n",
       "gender                                                 592\n",
       "age                                                    596\n",
       "employment_status                                      597\n",
       "position                                               598\n",
       "cease_date                                             635\n",
       "dissatisfied                                           643\n",
       "id                                                     651\n",
       "separationtype                                         651\n",
       "institute                                              651\n",
       "dtype: int64"
      ]
     },
     "execution_count": 87,
     "metadata": {},
     "output_type": "execute_result"
    }
   ],
   "source": [
    "# Combine the dataframes\n",
    "combined = pd.concat([dete_resignations_up, tafe_resignations_up], ignore_index=True)\n",
    "\n",
    "combined.notnull().sum().sort_values()"
   ]
  },
  {
   "cell_type": "markdown",
   "metadata": {},
   "source": [
    "Let's drop the columns with less than 500 non null values."
   ]
  },
  {
   "cell_type": "code",
   "execution_count": 70,
   "metadata": {
    "collapsed": true
   },
   "outputs": [],
   "source": [
    "combined_updated = combined.dropna(thresh = 500, axis =1).copy()"
   ]
  },
  {
   "cell_type": "markdown",
   "metadata": {},
   "source": [
    "## Clean the Service Column"
   ]
  },
  {
   "cell_type": "markdown",
   "metadata": {},
   "source": [
    "To analyze the data, we'll convert these numbers into categories. We'll use the definitions below:\n",
    " \n",
    " * New: Less than 3 years at a company\n",
    " * Experienced: 3-6 years at a company\n",
    " * Established: 7-10 years at a company\n",
    " * Veteran: 11 or more years at a company"
   ]
  },
  {
   "cell_type": "code",
   "execution_count": 71,
   "metadata": {
    "collapsed": false
   },
   "outputs": [
    {
     "data": {
      "text/plain": [
       "NaN                   88\n",
       "Less than 1 year      73\n",
       "1-2                   64\n",
       "3-4                   63\n",
       "5-6                   33\n",
       "11-20                 26\n",
       "5.0                   23\n",
       "1.0                   22\n",
       "7-10                  21\n",
       "0.0                   20\n",
       "3.0                   20\n",
       "6.0                   17\n",
       "4.0                   16\n",
       "2.0                   14\n",
       "9.0                   14\n",
       "7.0                   13\n",
       "More than 20 years    10\n",
       "8.0                    8\n",
       "13.0                   8\n",
       "15.0                   7\n",
       "20.0                   7\n",
       "14.0                   6\n",
       "10.0                   6\n",
       "12.0                   6\n",
       "17.0                   6\n",
       "22.0                   6\n",
       "16.0                   5\n",
       "18.0                   5\n",
       "24.0                   4\n",
       "11.0                   4\n",
       "23.0                   4\n",
       "19.0                   3\n",
       "39.0                   3\n",
       "21.0                   3\n",
       "32.0                   3\n",
       "25.0                   2\n",
       "26.0                   2\n",
       "36.0                   2\n",
       "28.0                   2\n",
       "30.0                   2\n",
       "33.0                   1\n",
       "38.0                   1\n",
       "35.0                   1\n",
       "34.0                   1\n",
       "31.0                   1\n",
       "49.0                   1\n",
       "29.0                   1\n",
       "27.0                   1\n",
       "42.0                   1\n",
       "41.0                   1\n",
       "Name: institute_service, dtype: int64"
      ]
     },
     "execution_count": 71,
     "metadata": {},
     "output_type": "execute_result"
    }
   ],
   "source": [
    "combined_updated['institute_service'].value_counts(dropna=False)"
   ]
  },
  {
   "cell_type": "code",
   "execution_count": 104,
   "metadata": {
    "collapsed": false
   },
   "outputs": [
    {
     "name": "stderr",
     "output_type": "stream",
     "text": [
      "/dataquest/system/env/python3/lib/python3.4/site-packages/ipykernel/__main__.py:2: FutureWarning:\n",
      "\n",
      "currently extract(expand=None) means expand=False (return Index/Series/DataFrame) but in a future version of pandas this will be changed to expand=True (return DataFrame)\n",
      "\n"
     ]
    },
    {
     "data": {
      "text/plain": [
       "1.0     159\n",
       "3.0      83\n",
       "5.0      56\n",
       "7.0      34\n",
       "11.0     30\n",
       "0.0      20\n",
       "20.0     17\n",
       "6.0      17\n",
       "4.0      16\n",
       "9.0      14\n",
       "2.0      14\n",
       "13.0      8\n",
       "8.0       8\n",
       "15.0      7\n",
       "17.0      6\n",
       "10.0      6\n",
       "12.0      6\n",
       "14.0      6\n",
       "22.0      6\n",
       "16.0      5\n",
       "18.0      5\n",
       "24.0      4\n",
       "23.0      4\n",
       "39.0      3\n",
       "19.0      3\n",
       "21.0      3\n",
       "32.0      3\n",
       "28.0      2\n",
       "36.0      2\n",
       "25.0      2\n",
       "30.0      2\n",
       "26.0      2\n",
       "29.0      1\n",
       "38.0      1\n",
       "42.0      1\n",
       "27.0      1\n",
       "41.0      1\n",
       "35.0      1\n",
       "49.0      1\n",
       "34.0      1\n",
       "33.0      1\n",
       "31.0      1\n",
       "Name: institute_service_up, dtype: int64"
      ]
     },
     "execution_count": 104,
     "metadata": {},
     "output_type": "execute_result"
    }
   ],
   "source": [
    "# Extract the years of service using the regular expression and convert the type to float\n",
    "combined_updated['institute_service_up'] = combined_updated['institute_service'].astype('str').str.extract(r'(\\d+)')\n",
    "combined_updated['institute_service_up'] = combined_updated['institute_service_up'].astype('float')\n",
    "\n",
    "combined_updated['institute_service_up'].value_counts()"
   ]
  },
  {
   "cell_type": "code",
   "execution_count": 88,
   "metadata": {
    "collapsed": false
   },
   "outputs": [
    {
     "data": {
      "text/plain": [
       "New            193\n",
       "Experienced    172\n",
       "Veteran        136\n",
       "Established     62\n",
       "Name: service_cat, dtype: int64"
      ]
     },
     "execution_count": 88,
     "metadata": {},
     "output_type": "execute_result"
    }
   ],
   "source": [
    "def transform_service(val):\n",
    "    if val >= 11:\n",
    "        return \"Veteran\"\n",
    "    elif 7 <= val < 11:\n",
    "        return \"Established\"\n",
    "    elif 3 <= val < 7:\n",
    "        return \"Experienced\"\n",
    "    elif pd.isnull(val):\n",
    "        return np.nan\n",
    "    else:\n",
    "        return \"New\"\n",
    "combined_updated['service_cat'] = combined_updated['institute_service_up'].apply(transform_service)\n",
    "\n",
    "\n",
    "combined_updated['service_cat'].value_counts()"
   ]
  },
  {
   "cell_type": "markdown",
   "metadata": {},
   "source": [
    "## Perform Iniatial Analysis"
   ]
  },
  {
   "cell_type": "markdown",
   "metadata": {},
   "source": [
    "Now we replace the missing values in our **dissatisfied** column with the most frequent value - **False**. The we will calculate the percentage of dissatisfied employees in each **service_cat** group using the **DataFrame.pivot_table()** method. Afterwards we can visualize the results using a bar plot."
   ]
  },
  {
   "cell_type": "code",
   "execution_count": 89,
   "metadata": {
    "collapsed": false
   },
   "outputs": [
    {
     "data": {
      "text/plain": [
       "False    403\n",
       "True     240\n",
       "NaN        8\n",
       "Name: dissatisfied, dtype: int64"
      ]
     },
     "execution_count": 89,
     "metadata": {},
     "output_type": "execute_result"
    }
   ],
   "source": [
    "combined_updated['dissatisfied'].value_counts(dropna=False)"
   ]
  },
  {
   "cell_type": "markdown",
   "metadata": {},
   "source": [
    "It seems we have only 8 missing values to replace."
   ]
  },
  {
   "cell_type": "code",
   "execution_count": 90,
   "metadata": {
    "collapsed": true
   },
   "outputs": [],
   "source": [
    "combined_updated['dissatisfied'] = combined_updated['dissatisfied'].fillna(False)"
   ]
  },
  {
   "cell_type": "code",
   "execution_count": 91,
   "metadata": {
    "collapsed": false
   },
   "outputs": [
    {
     "data": {
      "text/plain": [
       "<matplotlib.axes._subplots.AxesSubplot at 0x7f0e922c6400>"
      ]
     },
     "execution_count": 91,
     "metadata": {},
     "output_type": "execute_result"
    },
    {
     "data": {
      "image/png": "[encoded data removed]",
      "text/plain": [
       "<matplotlib.figure.Figure at 0x7f0e921d1dd8>"
      ]
     },
     "metadata": {},
     "output_type": "display_data"
    }
   ],
   "source": [
    "dis_pct = combined_updated.pivot_table(index='service_cat', values='dissatisfied')\n",
    "\n",
    "dis_pct.plot(kind='bar', rot=0)"
   ]
  },
  {
   "cell_type": "markdown",
   "metadata": {},
   "source": [
    "The plot shows that the dissatisfaction among the employees grows with the length of service. People who worked more than 6 years tend to be less pleased with the job than \"newer\" workers."
   ]
  },
  {
   "cell_type": "markdown",
   "metadata": {
    "collapsed": true
   },
   "source": [
    "## Conclusion"
   ]
  },
  {
   "cell_type": "markdown",
   "metadata": {},
   "source": [
    "During this project we performed various operations with our datasets in order to understand the trend in dissatisfaction of employees."
   ]
  }
 ],
 "metadata": {
  "kernelspec": {
   "display_name": "Python 3",
   "language": "python",
   "name": "python3"
  },
  "language_info": {
   "codemirror_mode": {
    "name": "ipython",
    "version": 3
   },
   "file_extension": ".py",
   "mimetype": "text/x-python",
   "name": "python",
   "nbconvert_exporter": "python",
   "pygments_lexer": "ipython3",
   "version": "3.4.3"
  }
 },
 "nbformat": 4,
 "nbformat_minor": 2
}
